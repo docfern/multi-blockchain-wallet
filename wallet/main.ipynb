{
 "cells": [
  {
   "cell_type": "code",
   "execution_count": 2,
   "metadata": {},
   "outputs": [],
   "source": [
    "# Importing libraries\n",
    "import os\n",
    "import subprocess \n",
    "import json\n",
    "\n",
    "from dotenv import load_dotenv\n",
    "\n",
    "from constants import *\n",
    "from bit import Key, PrivateKey, PrivateKeyTestnet\n",
    "from bit.network import NetworkAPI\n",
    "from bit import *\n",
    "from web3 import Web3\n",
    "from eth_account import Account"
   ]
  },
  {
   "cell_type": "code",
   "execution_count": null,
   "metadata": {},
   "outputs": [],
   "source": [
    "# Web3 connection and loading mnemonic\n",
    "# Nodes runing with POW\n",
    "w3 = Web3(Web3.HTTPProvider(\"http://127.0.0.1.8545\"))\n",
    "\n",
    "# Loading EV\n",
    "load_dotenv"
   ]
  },
  {
   "cell_type": "code",
   "execution_count": null,
   "metadata": {},
   "outputs": [],
   "source": [
    "# Loading Mnemonic EV and (set this mnemonic as an environment variable, and include the one you generated as a fallback using)\n",
    "mnemonic = os.getenv('MNEMONIC', \"liar general lucky churn grit dolphin dismiss eyebrow click history maze round\")\n",
    "print(mnemonic)"
   ]
  },
  {
   "cell_type": "code",
   "execution_count": null,
   "metadata": {},
   "outputs": [],
   "source": [
    "# Functions to transact\n",
    "#1 create function to call the php file. As I am on windows I am not using standard ./derive but \n",
    "def derive_wallets(mnemonic, coin, numderive):\n",
    "    \"\"\"Use the subprocess library to call the php file script from Python\"\"\"\n",
    "    command = f'php ./hd-wallet-derive/hd-wallet-derive.php -g --mnemonic=\"{mnemonic}\" --numderive=\"{numderive}\" --coin=\"{coin}\" --format=json' \n",
    "    \n",
    "    p = subprocess.Popen(command, stdout=subprocess.PIPE, shell=True)\n",
    "    (output, err) = p.communicate()\n",
    "   \n",
    "    keys = json.loads(output)\n",
    "    return  keys"
   ]
  },
  {
   "cell_type": "code",
   "execution_count": null,
   "metadata": {},
   "outputs": [],
   "source": [
    "# Create a coin object to hold child wallets\n",
    "coins = {\"eth\", \"btc-test\", \"btc\"}\n",
    "numderive = 3\n",
    "# Setting the dictionarry\n",
    "keys = {}\n",
    "for coin in coins:\n",
    "    keys[coin]= derive_wallets(os.getenv('mnemonic'), coin, numderive=3)"
   ]
  },
  {
   "cell_type": "code",
   "execution_count": null,
   "metadata": {},
   "outputs": [],
   "source": [
    "# Creating a private keys object\n",
    "eth_PrivateKey = keys[\"eth\"][0]['privkey']\n",
    "btc_PrivateKey = keys['btc-test'][0]['privkey']\n"
   ]
  },
  {
   "cell_type": "code",
   "execution_count": null,
   "metadata": {},
   "outputs": [],
   "source": [
    "print(json.dumps(eth_PrivateKey, indent=4, sort_keys=True))\n",
    "print(json.dumps(btc_PrivateKey, indent=4, sort_keys=True))\n",
    "print(json.dumps(keys, indent=4, sort_keys=True))"
   ]
  },
  {
   "cell_type": "code",
   "execution_count": null,
   "metadata": {},
   "outputs": [],
   "source": [
    "#2 - convert private key string \n",
    "def priv_key_to_account(coin, priv_key):\n",
    "    \"\"\"Convert the privkey string in a child key to an account object that bit or web3.py can use to transact\"\"\"\n",
    "    if coin == ETH:\n",
    "        return Account.privateKeyToAccount(priv_key)\n",
    "    if coin == BTCTEST:\n",
    "        return PrivateKeyTestnet(priv_key)"
   ]
  },
  {
   "cell_type": "code",
   "execution_count": null,
   "metadata": {},
   "outputs": [],
   "source": [
    "eth_acc = priv_key_to_account(ETH,eth_PrivateKey)\n",
    "btc_acc = priv_key_to_account(BTCTEST,btc_PrivateKey)"
   ]
  },
  {
   "cell_type": "code",
   "execution_count": null,
   "metadata": {},
   "outputs": [],
   "source": [
    "#3 create transaction with necesseary metadata\n",
    "\n",
    "def create_trx(coin, account, recipient, amount):\n",
    "    \"\"\"create the raw, unsigned transaction that contains all metadata needed to transact\"\"\"\n",
    "    global trx_data\n",
    "    if coin ==ETH:\n",
    "        gasEstimate = w3.eth.estimateGas(\n",
    "            {\"from\": account.address, \"to\": recipient, \"value\": amount}\n",
    "        )\n",
    "        trx_data = {\n",
    "            \"to\": recipient,\n",
    "            \"from\": account.address,\n",
    "            \"value\": amount,\n",
    "            \"gasPrice\": w3.eth.gasPrice,\n",
    "            \"gas\": gasEstimate,\n",
    "            \"nonce\": w3.eth.getTransactionCount(account.address)\n",
    "        }\n",
    "        return trx_data\n",
    "\n",
    "    if coin == BTCTEST:\n",
    "        return PrivateKeyTestnet.prepare_transaction(account.address, [(recipient, amount, BTC)]) "
   ]
  },
  {
   "cell_type": "code",
   "execution_count": null,
   "metadata": {},
   "outputs": [],
   "source": [
    "#4 create, sign, send the transaction \n",
    "\n",
    "def send_trx(coin, account, recipient, amount):\n",
    "    \"\"\"call create_trx, sign the transaction, then send it to the designated network\"\"\"\n",
    "    if coin == \"eth\": \n",
    "        trx_eth = create_trx(coin,account, recipient, amount)\n",
    "        sign = account.signTransaction(trx_eth)\n",
    "        result = w3.eth.sendRawTransaction(sign.rawTransaction)\n",
    "        print(result.hex())\n",
    "        return result.hex()\n",
    "    else:\n",
    "        trx_btctest= create_trx(coin,account,recipient,amount)\n",
    "        sign_trx_btctest = account.sign_transaction(trx_btctest)\n",
    "        from bit.network import NetworkAPI\n",
    "        NetworkAPI.broadcast_tx_testnet(sign_trx_btctest)       \n",
    "        return sign_trx_btctest"
   ]
  }
 ],
 "metadata": {
  "kernelspec": {
   "display_name": "Python 3",
   "language": "python",
   "name": "python3"
  },
  "language_info": {
   "codemirror_mode": {
    "name": "ipython",
    "version": 3
   },
   "file_extension": ".py",
   "mimetype": "text/x-python",
   "name": "python",
   "nbconvert_exporter": "python",
   "pygments_lexer": "ipython3",
   "version": "3.7.9"
  }
 },
 "nbformat": 4,
 "nbformat_minor": 4
}
